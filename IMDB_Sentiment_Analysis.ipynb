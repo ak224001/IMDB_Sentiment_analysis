{
  "nbformat": 4,
  "nbformat_minor": 0,
  "metadata": {
    "colab": {
      "name": "IMDB_Sentiment.ipynb",
      "provenance": [],
      "collapsed_sections": [],
      "mount_file_id": "1zwSMetHPhTSqxeTC4DbClxwQZ26QprZZ",
      "authorship_tag": "ABX9TyMIO3x5Binv67TI+KD9RXgi",
      "include_colab_link": true
    },
    "kernelspec": {
      "name": "python3",
      "display_name": "Python 3"
    },
    "accelerator": "GPU"
  },
  "cells": [
    {
      "cell_type": "markdown",
      "metadata": {
        "id": "view-in-github",
        "colab_type": "text"
      },
      "source": [
        "<a href=\"https://colab.research.google.com/github/ak224001/Sentiment-analysis/blob/master/IMDB_Sentiment_Analysis.ipynb\" target=\"_parent\"><img src=\"https://colab.research.google.com/assets/colab-badge.svg\" alt=\"Open In Colab\"/></a>"
      ]
    },
    {
      "cell_type": "code",
      "metadata": {
        "id": "xq8xEf0tRdze",
        "colab_type": "code",
        "colab": {}
      },
      "source": [
        "import pandas as  pd\n",
        "import numpy as np\n",
        "import matplotlib.pyplot as plt"
      ],
      "execution_count": 0,
      "outputs": []
    },
    {
      "cell_type": "code",
      "metadata": {
        "id": "aqg2zQoz03R6",
        "colab_type": "code",
        "colab": {}
      },
      "source": [
        "df = pd.read_csv(\"/content/drive/My Drive/IMDB_Sentiment_analysis/movie_data.csv\")"
      ],
      "execution_count": 0,
      "outputs": []
    },
    {
      "cell_type": "code",
      "metadata": {
        "id": "Ln4jeAug1oee",
        "colab_type": "code",
        "outputId": "17d59f4b-30b1-4941-cfb8-f730143854f7",
        "colab": {
          "base_uri": "https://localhost:8080/",
          "height": 101
        }
      },
      "source": [
        "import nltk\n",
        "nltk.download('punkt')\n",
        "nltk.download('stopwords')"
      ],
      "execution_count": 5,
      "outputs": [
        {
          "output_type": "stream",
          "text": [
            "[nltk_data] Downloading package punkt to /root/nltk_data...\n",
            "[nltk_data]   Unzipping tokenizers/punkt.zip.\n",
            "[nltk_data] Downloading package stopwords to /root/nltk_data...\n",
            "[nltk_data]   Unzipping corpora/stopwords.zip.\n"
          ],
          "name": "stdout"
        },
        {
          "output_type": "execute_result",
          "data": {
            "text/plain": [
              "True"
            ]
          },
          "metadata": {
            "tags": []
          },
          "execution_count": 5
        }
      ]
    },
    {
      "cell_type": "code",
      "metadata": {
        "id": "R8rh6OxK2rNr",
        "colab_type": "code",
        "colab": {}
      },
      "source": [
        "from tensorflow.keras.preprocessing.text import Tokenizer\n",
        "from tensorflow.keras.preprocessing.sequence import pad_sequences\n"
      ],
      "execution_count": 0,
      "outputs": []
    },
    {
      "cell_type": "code",
      "metadata": {
        "id": "j32GxfJmn3FL",
        "colab_type": "code",
        "colab": {}
      },
      "source": [
        "import string\n",
        "from nltk.tokenize import word_tokenize\n",
        "from nltk.corpus import stopwords\n"
      ],
      "execution_count": 0,
      "outputs": []
    },
    {
      "cell_type": "code",
      "metadata": {
        "id": "0MIuqGVKGb9P",
        "colab_type": "code",
        "colab": {}
      },
      "source": [
        "import gensim"
      ],
      "execution_count": 0,
      "outputs": []
    },
    {
      "cell_type": "code",
      "metadata": {
        "id": "0_g_RUthoid8",
        "colab_type": "code",
        "colab": {}
      },
      "source": [
        "review_lines = list()\n",
        "lines = df['review'].values.tolist()"
      ],
      "execution_count": 0,
      "outputs": []
    },
    {
      "cell_type": "code",
      "metadata": {
        "id": "ZDyP_fBSCSw7",
        "colab_type": "code",
        "colab": {}
      },
      "source": [
        "for line in lines:\n",
        "  tokens = word_tokenize(line)\n",
        "  #conver to lowercase\n",
        "  tokens = [w.lower() for w in tokens]\n",
        "  #remove punctuation from lines\n",
        "  table = str.maketrans('','',string.punctuation)\n",
        "  stripped = [w.translate(table) for w in tokens]\n",
        "  #remove other that are not alphabetic\n",
        "  words = [word for word in stripped if word.isalpha()]\n",
        "  #stop words \n",
        "  stop_words = set(stopwords.words('english'))\n",
        "  words = [w for w in words if not w in stop_words]\n",
        "  review_lines.append(words)"
      ],
      "execution_count": 0,
      "outputs": []
    },
    {
      "cell_type": "code",
      "metadata": {
        "id": "XzDTvMt028Yo",
        "colab_type": "code",
        "colab": {}
      },
      "source": [
        "max_length = max([len(s) for s in review_lines])"
      ],
      "execution_count": 0,
      "outputs": []
    },
    {
      "cell_type": "code",
      "metadata": {
        "id": "-cQ9xGIgqbqA",
        "colab_type": "code",
        "outputId": "a86b6c58-a471-4211-f482-f7e69d570479",
        "colab": {
          "base_uri": "https://localhost:8080/",
          "height": 298
        }
      },
      "source": [
        "import numpy as np\n",
        "import math\n",
        "text_len = [len(review_lines[i]) for i in range(len(review_lines))]\n",
        "print(\" Average length of review in training dataset\", np.mean(text_len))\n",
        "print(\" Std Deviation  of review in training dataset\", np.std(text_len))\n",
        "plt.boxplot(text_len)\n",
        "plt.show()"
      ],
      "execution_count": 14,
      "outputs": [
        {
          "output_type": "stream",
          "text": [
            " Average length of review in training dataset 122.12678\n",
            " Std Deviation  of review in training dataset 92.0244301630366\n"
          ],
          "name": "stdout"
        },
        {
          "output_type": "display_data",
          "data": {
            "image/png": "[encoded data removed]",
            "text/plain": [
              "<Figure size 432x288 with 1 Axes>"
            ]
          },
          "metadata": {
            "tags": [],
            "needs_background": "light"
          }
        }
      ]
    },
    {
      "cell_type": "code",
      "metadata": {
        "id": "HZOBkP1QZO3-",
        "colab_type": "code",
        "colab": {}
      },
      "source": [
        "#max length of sentance\n",
        "max_length = 500"
      ],
      "execution_count": 0,
      "outputs": []
    },
    {
      "cell_type": "code",
      "metadata": {
        "id": "JoHn4mKbgjjB",
        "colab_type": "code",
        "outputId": "8111506e-0190-4aa4-e76c-8960cf40d04b",
        "colab": {
          "base_uri": "https://localhost:8080/",
          "height": 34
        }
      },
      "source": [
        "import nltk\n",
        "from nltk.tokenize import word_tokenize\n",
        "tokenizer_obj = Tokenizer()\n",
        "tokenizer_obj.fit_on_texts(review_lines)\n",
        "sequences = tokenizer_obj.texts_to_sequences(review_lines)\n",
        "\n",
        "#pad sequence\n",
        "word_index = tokenizer_obj.word_index\n",
        "print(\"Found %s unique tokens\" % len(word_index))\n"
      ],
      "execution_count": 16,
      "outputs": [
        {
          "output_type": "stream",
          "text": [
            "Found 134156 unique tokens\n"
          ],
          "name": "stdout"
        }
      ]
    },
    {
      "cell_type": "code",
      "metadata": {
        "id": "jxTwSqZAi9be",
        "colab_type": "code",
        "colab": {}
      },
      "source": [
        "review_pad = pad_sequences(sequences,maxlen=max_length,padding ='post')"
      ],
      "execution_count": 0,
      "outputs": []
    },
    {
      "cell_type": "code",
      "metadata": {
        "id": "FBTojE13YD7p",
        "colab_type": "code",
        "colab": {}
      },
      "source": [
        "sentiment = df['sentiment'].values"
      ],
      "execution_count": 0,
      "outputs": []
    },
    {
      "cell_type": "code",
      "metadata": {
        "id": "8K0LIYmIYukW",
        "colab_type": "code",
        "colab": {}
      },
      "source": [
        "num_words =len(word_index)+1"
      ],
      "execution_count": 0,
      "outputs": []
    },
    {
      "cell_type": "code",
      "metadata": {
        "id": "okztTtJBM0eK",
        "colab_type": "code",
        "outputId": "de653795-4a05-4b2c-fa3d-79a19e1c5079",
        "colab": {
          "base_uri": "https://localhost:8080/",
          "height": 50
        }
      },
      "source": [
        "print('Indexing word vectors.')\n",
        "import numpy as np\n",
        "embeddings_index = {}\n",
        "f = open('/content/drive/My Drive/glove_6B/glove.6B.200d.txt', encoding='utf-8')\n",
        "for line in f:\n",
        "    values = line.split()\n",
        "    word = values[0]\n",
        "    coefs = np.asarray(values[1:], dtype='float32')\n",
        "    embeddings_index[word] = coefs\n",
        "f.close()\n",
        "\n",
        "print('Found %s word vectors.' % len(embeddings_index))"
      ],
      "execution_count": 49,
      "outputs": [
        {
          "output_type": "stream",
          "text": [
            "Indexing word vectors.\n",
            "Found 400000 word vectors.\n"
          ],
          "name": "stdout"
        }
      ]
    },
    {
      "cell_type": "code",
      "metadata": {
        "id": "SjTgsC8sm8Qj",
        "colab_type": "code",
        "colab": {}
      },
      "source": [
        "EMBEDDING_DIM=200\n",
        "num_words =len(word_index)+1\n",
        "embedding_matrix = np.zeros((num_words,EMBEDDING_DIM))\n",
        "for word,i in word_index.items():\n",
        "  if i>num_words:\n",
        "    continue\n",
        "  embedding_vector = embeddings_index.get(word)\n",
        "  if embedding_vector is not None:\n",
        "    embedding_matrix[i] = embedding_vector"
      ],
      "execution_count": 0,
      "outputs": []
    },
    {
      "cell_type": "code",
      "metadata": {
        "id": "BdT64RjZ3Hkl",
        "colab_type": "code",
        "colab": {}
      },
      "source": [
        "import tensorflow as tf\n",
        "from tensorflow.keras.datasets import imdb\n",
        "from tensorflow.keras.models import Sequential\n",
        "from tensorflow.keras.layers import Dense\n",
        "from tensorflow.keras.layers import Flatten,Embedding,LSTM,Conv1D,MaxPooling1D,Dropout,GRU,Bidirectional\n",
        "from tensorflow.keras.preprocessing import sequence\n",
        "\n"
      ],
      "execution_count": 0,
      "outputs": []
    },
    {
      "cell_type": "code",
      "metadata": {
        "id": "5_RZ-kc1xX_2",
        "colab_type": "code",
        "colab": {}
      },
      "source": [
        "#split data into train and test\n",
        "VALIDATION_SPLIT = .2\n",
        "indices = np.arange(review_pad.shape[0])\n",
        "np.random.shuffle(indices)\n",
        "review_pad = review_pad[indices]\n",
        "sentiment = sentiment[indices]\n"
      ],
      "execution_count": 0,
      "outputs": []
    },
    {
      "cell_type": "code",
      "metadata": {
        "id": "zxXF1UagAIfP",
        "colab_type": "code",
        "outputId": "7467ed7d-f5ce-49a4-d9a5-e75d1d085321",
        "colab": {
          "base_uri": "https://localhost:8080/",
          "height": 34
        }
      },
      "source": [
        "num_validation_samples = int(VALIDATION_SPLIT*review_pad.shape[0])\n",
        "num_validation_samples"
      ],
      "execution_count": 87,
      "outputs": [
        {
          "output_type": "execute_result",
          "data": {
            "text/plain": [
              "10000"
            ]
          },
          "metadata": {
            "tags": []
          },
          "execution_count": 87
        }
      ]
    },
    {
      "cell_type": "code",
      "metadata": {
        "id": "qxYp7KWSAeoG",
        "colab_type": "code",
        "colab": {}
      },
      "source": [
        "X_train_pad = review_pad[:-num_validation_samples]\n",
        "y_train = sentiment[:-num_validation_samples]\n",
        "X_test_pad = review_pad[-num_validation_samples:]\n",
        "y_test = sentiment[-num_validation_samples:]\n"
      ],
      "execution_count": 0,
      "outputs": []
    },
    {
      "cell_type": "code",
      "metadata": {
        "id": "LSpeTaAzZT9Q",
        "colab_type": "code",
        "outputId": "30689104-fb84-4241-9089-dc93d636e422",
        "colab": {
          "base_uri": "https://localhost:8080/",
          "height": 34
        }
      },
      "source": [
        "X_train_pad.shape"
      ],
      "execution_count": 25,
      "outputs": [
        {
          "output_type": "execute_result",
          "data": {
            "text/plain": [
              "(45000, 500)"
            ]
          },
          "metadata": {
            "tags": []
          },
          "execution_count": 25
        }
      ]
    },
    {
      "cell_type": "code",
      "metadata": {
        "id": "0h2lXPu2f2kS",
        "colab_type": "code",
        "outputId": "0aa48851-6eaa-4e3d-976a-d4f16ad633bc",
        "colab": {
          "base_uri": "https://localhost:8080/",
          "height": 336
        }
      },
      "source": [
        "# create the model\n",
        "Embedding_dim = 200\n",
        "model = Sequential()\n",
        "embedding_layer = Embedding(num_words, Embedding_dim ,weights=[embedding_matrix],input_length=max_length,trainable = False)\n",
        "model.add(embedding_layer)\n",
        "model.add(Conv1D(filters=32, kernel_size=3, padding='same', activation='relu'))\n",
        "model.add(MaxPooling1D(pool_size=2))\n",
        "model.add(Bidirectional(LSTM(100)))\n",
        "model.add(Dense(1, activation='sigmoid'))\n",
        "model.compile(loss='binary_crossentropy', optimizer='adam', metrics=['accuracy'])\n",
        "print(model.summary())"
      ],
      "execution_count": 146,
      "outputs": [
        {
          "output_type": "stream",
          "text": [
            "Model: \"sequential_15\"\n",
            "_________________________________________________________________\n",
            "Layer (type)                 Output Shape              Param #   \n",
            "=================================================================\n",
            "embedding_15 (Embedding)     (None, 500, 200)          26831400  \n",
            "_________________________________________________________________\n",
            "conv1d_15 (Conv1D)           (None, 500, 32)           19232     \n",
            "_________________________________________________________________\n",
            "max_pooling1d_15 (MaxPooling (None, 250, 32)           0         \n",
            "_________________________________________________________________\n",
            "bidirectional_14 (Bidirectio (None, 200)               106400    \n",
            "_________________________________________________________________\n",
            "dense_14 (Dense)             (None, 1)                 201       \n",
            "=================================================================\n",
            "Total params: 26,957,233\n",
            "Trainable params: 125,833\n",
            "Non-trainable params: 26,831,400\n",
            "_________________________________________________________________\n",
            "None\n"
          ],
          "name": "stdout"
        }
      ]
    },
    {
      "cell_type": "code",
      "metadata": {
        "id": "eYPZAkxa7NG1",
        "colab_type": "code",
        "colab": {
          "base_uri": "https://localhost:8080/",
          "height": 370
        },
        "outputId": "473f37c8-f814-49aa-fb26-fcd22920aa08"
      },
      "source": [
        "# Fit the model\n",
        "result = model.fit(X_train_pad, y_train, validation_data=(X_test_pad, y_test), epochs=10, batch_size=500)\n",
        "# Final evaluation of the model\n",
        "scores = model.evaluate(X_test_pad, y_test, verbose=0)\n",
        "print(\"Accuracy: %.2f%%\" % (scores[1]*100))"
      ],
      "execution_count": 147,
      "outputs": [
        {
          "output_type": "stream",
          "text": [
            "Epoch 1/10\n",
            "80/80 [==============================] - 11s 135ms/step - loss: 0.5076 - accuracy: 0.7514 - val_loss: 0.4041 - val_accuracy: 0.8283\n",
            "Epoch 2/10\n",
            "80/80 [==============================] - 10s 127ms/step - loss: 0.3827 - accuracy: 0.8364 - val_loss: 0.3807 - val_accuracy: 0.8343\n",
            "Epoch 3/10\n",
            "80/80 [==============================] - 10s 127ms/step - loss: 0.3391 - accuracy: 0.8556 - val_loss: 0.3398 - val_accuracy: 0.8514\n",
            "Epoch 4/10\n",
            "80/80 [==============================] - 10s 127ms/step - loss: 0.3281 - accuracy: 0.8618 - val_loss: 0.3210 - val_accuracy: 0.8615\n",
            "Epoch 5/10\n",
            "80/80 [==============================] - 10s 127ms/step - loss: 0.3009 - accuracy: 0.8749 - val_loss: 0.3202 - val_accuracy: 0.8618\n",
            "Epoch 6/10\n",
            "80/80 [==============================] - 10s 128ms/step - loss: 0.3045 - accuracy: 0.8723 - val_loss: 0.3269 - val_accuracy: 0.8510\n",
            "Epoch 7/10\n",
            "80/80 [==============================] - 10s 127ms/step - loss: 0.2858 - accuracy: 0.8820 - val_loss: 0.3138 - val_accuracy: 0.8623\n",
            "Epoch 8/10\n",
            "80/80 [==============================] - 10s 128ms/step - loss: 0.2697 - accuracy: 0.8899 - val_loss: 0.3027 - val_accuracy: 0.8688\n",
            "Epoch 9/10\n",
            "80/80 [==============================] - 10s 128ms/step - loss: 0.2660 - accuracy: 0.8913 - val_loss: 0.3133 - val_accuracy: 0.8714\n",
            "Epoch 10/10\n",
            "80/80 [==============================] - 10s 127ms/step - loss: 0.2529 - accuracy: 0.8967 - val_loss: 0.2939 - val_accuracy: 0.8767\n",
            "Accuracy: 87.67%\n"
          ],
          "name": "stdout"
        }
      ]
    },
    {
      "cell_type": "code",
      "metadata": {
        "id": "AergSuD-k9J-",
        "colab_type": "code",
        "colab": {
          "base_uri": "https://localhost:8080/",
          "height": 295
        },
        "outputId": "1e502d54-cb6e-4705-a167-35b1ac1b44ee"
      },
      "source": [
        "# summarize history for accuracy\n",
        "history = result\n",
        "plt.plot(history.history['accuracy'])\n",
        "plt.plot(history.history['val_accuracy'])\n",
        "plt.title('model accuracy')\n",
        "plt.ylabel('accuracy')\n",
        "plt.xlabel('epoch')\n",
        "plt.legend(['train', 'test'], loc='upper left')\n",
        "plt.show()"
      ],
      "execution_count": 148,
      "outputs": [
        {
          "output_type": "display_data",
          "data": {
            "image/png": "[encoded data removed]",
            "text/plain": [
              "<Figure size 432x288 with 1 Axes>"
            ]
          },
          "metadata": {
            "tags": [],
            "needs_background": "light"
          }
        }
      ]
    },
    {
      "cell_type": "code",
      "metadata": {
        "id": "-LSorXVYNUw7",
        "colab_type": "code",
        "colab": {
          "base_uri": "https://localhost:8080/",
          "height": 295
        },
        "outputId": "cee1de62-8c40-4803-93ef-761410b433d7"
      },
      "source": [
        "plt.plot(history.history['loss'])\n",
        "plt.plot(history.history['val_loss'])\n",
        "plt.title('model loss')\n",
        "plt.ylabel('loss')\n",
        "plt.xlabel('epoch')\n",
        "plt.legend(['train', 'val'], loc='upper left')\n",
        "plt.show()"
      ],
      "execution_count": 149,
      "outputs": [
        {
          "output_type": "display_data",
          "data": {
            "image/png": "[encoded data removed]",
            "text/plain": [
              "<Figure size 432x288 with 1 Axes>"
            ]
          },
          "metadata": {
            "tags": [],
            "needs_background": "light"
          }
        }
      ]
    },
    {
      "cell_type": "code",
      "metadata": {
        "id": "-PhfJU9-n163",
        "colab_type": "code",
        "colab": {}
      },
      "source": [
        "model.summary()"
      ],
      "execution_count": 0,
      "outputs": []
    },
    {
      "cell_type": "code",
      "metadata": {
        "id": "dcvamoyuBDof",
        "colab_type": "code",
        "outputId": "5dd6a584-73be-4388-b72f-6304a93b76c9",
        "colab": {
          "base_uri": "https://localhost:8080/",
          "height": 34
        }
      },
      "source": [
        "X_train_pad.shape,y_train.shape,X_test_pad.shape,y_test.shape"
      ],
      "execution_count": 22,
      "outputs": [
        {
          "output_type": "execute_result",
          "data": {
            "text/plain": [
              "((30000, 500), (30000,), (20000, 500), (20000,))"
            ]
          },
          "metadata": {
            "tags": []
          },
          "execution_count": 22
        }
      ]
    },
    {
      "cell_type": "code",
      "metadata": {
        "id": "DgczgVdy6gHT",
        "colab_type": "code",
        "colab": {}
      },
      "source": [
        "\n"
      ],
      "execution_count": 0,
      "outputs": []
    },
    {
      "cell_type": "code",
      "metadata": {
        "id": "AeTD8ZHh5wc4",
        "colab_type": "code",
        "outputId": "42f5dab0-cf49-43a2-9308-09d486285480",
        "colab": {
          "base_uri": "https://localhost:8080/",
          "height": 336
        }
      },
      "source": [
        "# create the model\n",
        "embedding_vecor_length = 128\n",
        "model = Sequential()\n",
        "model.add(Embedding(num_words, embedding_vecor_length, input_length=max_length))\n",
        "model.add(Conv1D(filters=32, kernel_size=3, padding='same', activation='relu'))\n",
        "model.add(MaxPooling1D(pool_size=2))\n",
        "model.add(Bidirectional(LSTM(16)))\n",
        "model.add(Dense(1, activation='sigmoid'))\n",
        "model.compile(loss='binary_crossentropy', optimizer='adam', metrics=['accuracy'])\n",
        "print(model.summary())"
      ],
      "execution_count": 86,
      "outputs": [
        {
          "output_type": "stream",
          "text": [
            "Model: \"sequential_11\"\n",
            "_________________________________________________________________\n",
            "Layer (type)                 Output Shape              Param #   \n",
            "=================================================================\n",
            "embedding_11 (Embedding)     (None, 500, 128)          17172096  \n",
            "_________________________________________________________________\n",
            "conv1d_11 (Conv1D)           (None, 500, 32)           12320     \n",
            "_________________________________________________________________\n",
            "max_pooling1d_11 (MaxPooling (None, 250, 32)           0         \n",
            "_________________________________________________________________\n",
            "bidirectional_9 (Bidirection (None, 32)                6272      \n",
            "_________________________________________________________________\n",
            "dense_10 (Dense)             (None, 1)                 33        \n",
            "=================================================================\n",
            "Total params: 17,190,721\n",
            "Trainable params: 17,190,721\n",
            "Non-trainable params: 0\n",
            "_________________________________________________________________\n",
            "None\n"
          ],
          "name": "stdout"
        }
      ]
    },
    {
      "cell_type": "code",
      "metadata": {
        "id": "3aZ_t66ydHlL",
        "colab_type": "code",
        "outputId": "6a001057-fc2b-48a9-bfe2-38d0f421151c",
        "colab": {
          "base_uri": "https://localhost:8080/",
          "height": 370
        }
      },
      "source": [
        "# Fit the model\n",
        "result = model.fit(X_train_pad, y_train, validation_data=(X_test_pad, y_test), epochs=10, batch_size=500)\n",
        "# Final evaluation of the mode\n",
        "scores = model.evaluate(X_test_pad, y_test, verbose=0)\n",
        "print(\"Accuracy: %.2f%%\" % (scores[1]*100))"
      ],
      "execution_count": 87,
      "outputs": [
        {
          "output_type": "stream",
          "text": [
            "Epoch 1/10\n",
            "60/60 [==============================] - 18s 305ms/step - loss: 0.5813 - accuracy: 0.7105 - val_loss: 0.3872 - val_accuracy: 0.8389\n",
            "Epoch 2/10\n",
            "60/60 [==============================] - 17s 290ms/step - loss: 0.2578 - accuracy: 0.9064 - val_loss: 0.2849 - val_accuracy: 0.8877\n",
            "Epoch 3/10\n",
            "60/60 [==============================] - 17s 291ms/step - loss: 0.1385 - accuracy: 0.9585 - val_loss: 0.3072 - val_accuracy: 0.8855\n",
            "Epoch 4/10\n",
            "60/60 [==============================] - 18s 293ms/step - loss: 0.0747 - accuracy: 0.9822 - val_loss: 0.3439 - val_accuracy: 0.8814\n",
            "Epoch 5/10\n",
            "60/60 [==============================] - 17s 291ms/step - loss: 0.0464 - accuracy: 0.9907 - val_loss: 0.4062 - val_accuracy: 0.8781\n",
            "Epoch 6/10\n",
            "60/60 [==============================] - 17s 291ms/step - loss: 0.0330 - accuracy: 0.9940 - val_loss: 0.4532 - val_accuracy: 0.8732\n",
            "Epoch 7/10\n",
            "60/60 [==============================] - 18s 293ms/step - loss: 0.0317 - accuracy: 0.9932 - val_loss: 0.5015 - val_accuracy: 0.8621\n",
            "Epoch 8/10\n",
            "60/60 [==============================] - 18s 292ms/step - loss: 0.0290 - accuracy: 0.9933 - val_loss: 0.4914 - val_accuracy: 0.8718\n",
            "Epoch 9/10\n",
            "60/60 [==============================] - 18s 293ms/step - loss: 0.0223 - accuracy: 0.9953 - val_loss: 0.4996 - val_accuracy: 0.8732\n",
            "Epoch 10/10\n",
            "60/60 [==============================] - 17s 291ms/step - loss: 0.0177 - accuracy: 0.9967 - val_loss: 0.5414 - val_accuracy: 0.8684\n",
            "Accuracy: 86.84%\n"
          ],
          "name": "stdout"
        }
      ]
    },
    {
      "cell_type": "code",
      "metadata": {
        "id": "Q7KV0q-YzFIJ",
        "colab_type": "code",
        "outputId": "c592346d-04f6-442c-821f-336b92e20215",
        "colab": {
          "base_uri": "https://localhost:8080/",
          "height": 295
        }
      },
      "source": [
        "# summarize history for accuracy\n",
        "history = result\n",
        "plt.plot(history.history['accuracy'])\n",
        "plt.plot(history.history['val_accuracy'])\n",
        "plt.title('model accuracy')\n",
        "plt.ylabel('accuracy')\n",
        "plt.xlabel('epoch')\n",
        "plt.legend(['train', 'test'], loc='upper left')\n",
        "plt.show()"
      ],
      "execution_count": 88,
      "outputs": [
        {
          "output_type": "display_data",
          "data": {
            "image/png": "[encoded data removed]",
            "text/plain": [
              "<Figure size 432x288 with 1 Axes>"
            ]
          },
          "metadata": {
            "tags": [],
            "needs_background": "light"
          }
        }
      ]
    },
    {
      "cell_type": "code",
      "metadata": {
        "id": "CzjafpI9e6-o",
        "colab_type": "code",
        "colab": {}
      },
      "source": [
        "s1 = \"Movie was fantastic\"\n",
        "s2 = \"moview was good\"\n",
        "s3 = \"it was awesome\"\n",
        "s4 = \"so bad movie\"\n",
        "s5 = \"movie was good but so at the last it was horrible so bad\"\n",
        "s = [s1,s2,s3,s4,s5]\n",
        "test_s_token = tokenizer_obj.texts_to_sequences(s)"
      ],
      "execution_count": 0,
      "outputs": []
    },
    {
      "cell_type": "code",
      "metadata": {
        "id": "FW2qRwvW4oIs",
        "colab_type": "code",
        "colab": {}
      },
      "source": [
        "test_s_token_pad = pad_sequences(test_s_token,maxlen=max_length,padding ='post')"
      ],
      "execution_count": 0,
      "outputs": []
    },
    {
      "cell_type": "code",
      "metadata": {
        "id": "KgRihJUX5EUN",
        "colab_type": "code",
        "colab": {
          "base_uri": "https://localhost:8080/",
          "height": 101
        },
        "outputId": "eeee10b0-edee-4c17-ed38-3df66577a446"
      },
      "source": [
        "model.predict(test_s_token_pad)"
      ],
      "execution_count": 144,
      "outputs": [
        {
          "output_type": "execute_result",
          "data": {
            "text/plain": [
              "array([[0.8561844 ],\n",
              "       [0.5657854 ],\n",
              "       [0.72232056],\n",
              "       [0.1381341 ],\n",
              "       [0.15789826]], dtype=float32)"
            ]
          },
          "metadata": {
            "tags": []
          },
          "execution_count": 144
        }
      ]
    },
    {
      "cell_type": "code",
      "metadata": {
        "id": "XXI1s_ZuEQ6k",
        "colab_type": "code",
        "colab": {}
      },
      "source": [
        "r = []"
      ],
      "execution_count": 0,
      "outputs": []
    },
    {
      "cell_type": "code",
      "metadata": {
        "id": "J3Q2Gs48DuBi",
        "colab_type": "code",
        "colab": {}
      },
      "source": [
        "for line in s:\n",
        "  tokens = word_tokenize(line)\n",
        "  #conver to lowercase\n",
        "  tokens = [w.lower() for w in tokens]\n",
        "  #remove punctuation from lines\n",
        "  table = str.maketrans('','',string.punctuation)\n",
        "  stripped = [w.translate(table) for w in tokens]\n",
        "  #remove other that are not alphabetic\n",
        "  words = [word for word in stripped if word.isalpha()]\n",
        "  #stop words \n",
        "  stop_words = set(stopwords.words('english'))\n",
        "  words = [w for w in words if not w in stop_words]\n",
        "  r.append(words)"
      ],
      "execution_count": 0,
      "outputs": []
    },
    {
      "cell_type": "code",
      "metadata": {
        "id": "EG5lLkUxEWrg",
        "colab_type": "code",
        "colab": {}
      },
      "source": [
        "test_r_token = tokenizer_obj.texts_to_sequences(r)"
      ],
      "execution_count": 0,
      "outputs": []
    },
    {
      "cell_type": "code",
      "metadata": {
        "id": "EBj7a50bEbAo",
        "colab_type": "code",
        "colab": {}
      },
      "source": [
        "test_r_token_pad = pad_sequences(test_r_token,maxlen=max_length,padding ='post')"
      ],
      "execution_count": 0,
      "outputs": []
    },
    {
      "cell_type": "code",
      "metadata": {
        "id": "wbU2dSWrEeaF",
        "colab_type": "code",
        "colab": {
          "base_uri": "https://localhost:8080/",
          "height": 101
        },
        "outputId": "fab17586-a3d7-4684-e23e-55ffc043b3d7"
      },
      "source": [
        "model.predict(test_r_token_pad)"
      ],
      "execution_count": 150,
      "outputs": [
        {
          "output_type": "execute_result",
          "data": {
            "text/plain": [
              "array([[0.8356153 ],\n",
              "       [0.6360109 ],\n",
              "       [0.6890178 ],\n",
              "       [0.18257987],\n",
              "       [0.16914912]], dtype=float32)"
            ]
          },
          "metadata": {
            "tags": []
          },
          "execution_count": 150
        }
      ]
    },
    {
      "cell_type": "code",
      "metadata": {
        "id": "r0DOBrCAEh01",
        "colab_type": "code",
        "colab": {}
      },
      "source": [
        "com1 = \"To be honest, this is the movie that motivated me to read the book of Exodus. I watch this movie again and again and it has blessed me so much. Exodus contains many precious truths about our blessed Lord Jesus Christ. It contains pictures, types, and the applications (like the blood on the doorpost) which have direct meaning on our Christian life today. Please do watch this movie and be blessed. See how the LORD planned beforehand and chose a deliverer to free the children of Israel and give them freedom, performed mighty miracles through him to save the children of Israel from the bitter bondage, protected Israel from the Pharaoh and his soldiers who sought to kill and destroy them, see the LORD's glory and His ways. Praise be to His wonderful name!\"\n",
        "com2 = \"Highly impressed with the movie and it is an inspreration of my faith too be more stronger . I love this movie to watch again and again to be one off  the best believer . Thank you soo very much for the making of this movie. Love you and God bless the entire team .Blessings to all of you , who is sharing this for free .\"\n",
        "com3 = \"I have always loved this movie. It is the best depiction of the bible on screen that I have watched. Also, Cecil B. DeMille was Jewish, so he wanted to get as close to the Bible as possible in making this movie. One of Charlton Heston's and Yul Brynner's best pictures...they were fantastic!!!\"\n",
        "com4 = \"The greatest epic director was DeMille. However he cast that wooden actor for his looks and not for his acting skill , Charles Heston as Moses. Read all about DeMille in THE LOST  WORLD of DEMILLE by   JOHN KOBAL  DeMille cast his main characters in his epic biblical movies based on European art work who painted the great Jewish characters as tall virile Christians with long flowing hair. He forgot to consult his mother Jewish side for how people looked \"\n",
        "com5 = \"I watched this movie around 20 years ago almost every friday night mainly because  i enjoyed it so much. Now that im alot older and understand it more i enjoy it alot more. Im not religious now but it really gives you a good understanding of the story of Moses.\"\n",
        "com6 = \"The movie was, is and will be amazing forever. All the actors had done a very good job. Excellent photography, costumes, biggest movie all the time with the imperishable Word of God from Exodus. All glory, paise, and honor to Almighty God,Who created Heaven and earth.\"\n",
        "com7 = \"For 1956 it was great. I was only 9, buI like to see it in 2019. The God I serve did part the Red Sea to save His chosen people. The very same God sent his only son to die so that we can have eternal life. Tomorrow I celebrate Easter because Jesus rose from the grave and one day soon He is coming back to claim His own. He is pure love.\"\n",
        "com8 = \"This movie delivers the respect an adaptation of the life of Moses deserves. It truly is one of the greatest films of all time. I once wrote a review for 'Prince of Egypt' which I thought was better but it depends on what you want to see. if you want to see a good character study of Moses, watch this movie. If you just want to watch an action movie or a musical or a kids movie, watch that one.\"\n",
        "com9 = \"This movie was AMAZING!!!! I'm an atheist and I loved it a lot!! honestly i don't know who Moses is but he seemed like a real jerk in my opinion, but everyone else in the movie seemed fine to me. 8/10 would recommend to my atheist Facebook group.\"\n",
        "com10 = \"Wonderful film about the children of Israel as they are in bondage in Egypt. They experience and see the hand of God through the 10 plagues. Finally  the Lord rescues them then guides them through the wilderness and calls them to be His people and covenants to be their God. Its an epic film showing the importance of obedience and faith in God the Father of Abraham, Isaac and Jacob.\"\n",
        "comments = [com1,com2,com3,com4,com5,com6,com7,com8,com9,com10]"
      ],
      "execution_count": 0,
      "outputs": []
    },
    {
      "cell_type": "code",
      "metadata": {
        "id": "M32pVPykGYH3",
        "colab_type": "code",
        "colab": {}
      },
      "source": [
        "review = []"
      ],
      "execution_count": 0,
      "outputs": []
    },
    {
      "cell_type": "code",
      "metadata": {
        "id": "Sxj_oDToGJQx",
        "colab_type": "code",
        "colab": {}
      },
      "source": [
        "for line in comments:\n",
        "  tokens = word_tokenize(line)\n",
        "  #conver to lowercase\n",
        "  tokens = [w.lower() for w in tokens]\n",
        "  #remove punctuation from lines\n",
        "  table = str.maketrans('','',string.punctuation)\n",
        "  stripped = [w.translate(table) for w in tokens]\n",
        "  #remove other that are not alphabetic\n",
        "  words = [word for word in stripped if word.isalpha()]\n",
        "  #stop words \n",
        "  stop_words = set(stopwords.words('english'))\n",
        "  words = [w for w in words if not w in stop_words]\n",
        "  review.append(words)"
      ],
      "execution_count": 0,
      "outputs": []
    },
    {
      "cell_type": "code",
      "metadata": {
        "id": "NjFvaJ3OGa74",
        "colab_type": "code",
        "colab": {}
      },
      "source": [
        "com_token = tokenizer_obj.texts_to_sequences(review)"
      ],
      "execution_count": 0,
      "outputs": []
    },
    {
      "cell_type": "code",
      "metadata": {
        "id": "HrLhfXPVGg5C",
        "colab_type": "code",
        "colab": {}
      },
      "source": [
        "com_token_pad = pad_sequences(com_token,maxlen=max_length,padding ='post')"
      ],
      "execution_count": 0,
      "outputs": []
    },
    {
      "cell_type": "code",
      "metadata": {
        "id": "6G_W2QGIGlwA",
        "colab_type": "code",
        "colab": {
          "base_uri": "https://localhost:8080/",
          "height": 185
        },
        "outputId": "fc179e3e-0ef2-438e-cc69-ea045b9c3489"
      },
      "source": [
        "model.predict(com_token_pad)"
      ],
      "execution_count": 151,
      "outputs": [
        {
          "output_type": "execute_result",
          "data": {
            "text/plain": [
              "array([[0.9442054 ],\n",
              "       [0.9882251 ],\n",
              "       [0.93999845],\n",
              "       [0.88237476],\n",
              "       [0.97660553],\n",
              "       [0.9667096 ],\n",
              "       [0.8522855 ],\n",
              "       [0.9893428 ],\n",
              "       [0.7957951 ],\n",
              "       [0.9764207 ]], dtype=float32)"
            ]
          },
          "metadata": {
            "tags": []
          },
          "execution_count": 151
        }
      ]
    },
    {
      "cell_type": "code",
      "metadata": {
        "id": "9_D607ChKvCj",
        "colab_type": "code",
        "colab": {}
      },
      "source": [
        "import pickle\n",
        "\n",
        "# saving\n",
        "with open('tokenizer.pickle', 'wb') as handle:\n",
        "    pickle.dump(tokenizer_obj, handle, protocol=pickle.HIGHEST_PROTOCOL)\n",
        "\n",
        "# loading\n",
        "with open('tokenizer.pickle', 'rb') as handle:\n",
        "    tokenizer = pickle.load(handle)"
      ],
      "execution_count": 0,
      "outputs": []
    },
    {
      "cell_type": "code",
      "metadata": {
        "id": "Ujtht33sKxbN",
        "colab_type": "code",
        "colab": {}
      },
      "source": [
        "model.save('IMDB_Sentiment_Glove.h5')  # creates a HDF5 file 'my_model.h5'\n"
      ],
      "execution_count": 0,
      "outputs": []
    }
  ]
}